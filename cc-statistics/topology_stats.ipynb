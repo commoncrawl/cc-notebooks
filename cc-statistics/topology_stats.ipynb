{
 "cells": [
  {
   "cell_type": "markdown",
   "metadata": {},
   "source": [
    "# Common Crawl web graph statistics notebook\n",
    "\n",
    "This notebook will guide you through how to:\n",
    "- Load Common Crawl webgraph\n",
    "- Generate statistics about said webgraph\n",
    "- Interact with said webgraph\n",
    "\n",
    "Requirements:\n",
    "- Python\n",
    "- For windows users, WSL\n",
    "- AWS CLI\n",
    "- Maven\n",
    "\n",
    "### Note: Please refer to the [README](https://github.com/Xue-Alex/commoncrawl_notebooks/blob/master/README.md) and follow along here, as more details about each step will be provided in the README."
   ]
  },
  {
   "cell_type": "code",
   "execution_count": 4,
   "metadata": {
    "scrolled": true
   },
   "outputs": [],
   "source": [
    "%%bash\n",
    "\n",
    "git clone https://github.com/commoncrawl/cc-webgraph.git\n",
    "\n",
    "cd cc-webgraph\n",
    "\n",
    "mvn package;"
   ]
  },
  {
   "cell_type": "markdown",
   "metadata": {},
   "source": [
    "First, we clone an existing repo, `cc-webgraph` which provides us with some very useful scripts that will help us get the webgraph set up. We run `mvn package` as the Java tools in this repo are compiled and packages with Maven."
   ]
  },
  {
   "cell_type": "code",
   "execution_count": 27,
   "metadata": {
    "scrolled": false
   },
   "outputs": [],
   "source": [
    "%%bash\n",
    "\n",
    "for f in cc-main-2020-feb-mar-may-domain-t.graph cc-main-2020-feb-mar-may-domain-t.properties \\\n",
    "         cc-main-2020-feb-mar-may-domain.graph cc-main-2020-feb-mar-may-domain.properties \\\n",
    "         cc-main-2020-feb-mar-may-domain.stats \\\n",
    "         cc-main-2020-feb-mar-may-domain-edges.txt.gz; do\n",
    "   aws --no-sign-request s3 cp s3://commoncrawl/projects/hyperlinkgraph/cc-main-2020-feb-mar-may/domain/$f .;\n",
    "done"
   ]
  },
  {
   "cell_type": "markdown",
   "metadata": {},
   "source": [
    "We download the webgraph which is represented in the form of different files (such as `.graph`, `.stats`, etc). It should be noted that these files may be fairly large (and are also provided on the [blog](https://commoncrawl.org/2020/06/host-and-domain-level-web-graphs-febmarmay-2020/))."
   ]
  },
  {
   "cell_type": "code",
   "execution_count": null,
   "metadata": {},
   "outputs": [],
   "source": [
    "%%bash\n",
    "\n",
    "WG=\"cc-webgraph/src/script/webgraph_ranking/run_webgraph.sh\""
   ]
  },
  {
   "cell_type": "markdown",
   "metadata": {},
   "source": [
    "This shell variable `WG` is the path to our script that will help us run the java commands"
   ]
  },
  {
   "cell_type": "code",
   "execution_count": null,
   "metadata": {},
   "outputs": [],
   "source": [
    "%%bash\n",
    "\n",
    "$WG it.unimi.dsi.webgraph.BVGraph -O -L cc-main-2020-feb-mar-may-domain\n",
    "$WG it.unimi.dsi.webgraph.BVGraph -O -L cc-main-2020-feb-mar-may-domain-t\n",
    "\n",
    "$WG it.unimi.dsi.webgraph.algo.ConnectedComponents -m --renumber --sizes -t cc-main-2020-feb-mar-may-domain-t cc-main-2020-feb-mar-may-domain\n",
    "$WG it.unimi.dsi.webgraph.algo.StronglyConnectedComponents --renumber --sizes cc-main-2020-feb-mar-may-domain"
   ]
  },
  {
   "cell_type": "markdown",
   "metadata": {},
   "source": [
    "We will now generate the offset files and connected component files of our webgraph"
   ]
  },
  {
   "cell_type": "code",
   "execution_count": null,
   "metadata": {},
   "outputs": [],
   "source": [
    "%%bash\n",
    "\n",
    "$WG it.unimi.dsi.webgraph.Stats --save-degrees cc-main-2020-feb-mar-may-domain"
   ]
  },
  {
   "cell_type": "markdown",
   "metadata": {},
   "source": [
    "Finally, we may generate the stats file of our webgraph"
   ]
  },
  {
   "cell_type": "code",
   "execution_count": null,
   "metadata": {},
   "outputs": [],
   "source": [
    "%%bash\n",
    "\n",
    "cat "
   ]
  },
  {
   "cell_type": "markdown",
   "metadata": {},
   "source": [
    "Another interesting tool that you may look into is pyWebGraph, a program developed by Massimo Santini which interfaces Jython with WebGraph. This tool makes the exploration of WebGraphs very easy. The following sections will outline how to get started using pyWebGraph."
   ]
  },
  {
   "cell_type": "code",
   "execution_count": null,
   "metadata": {},
   "outputs": [],
   "source": [
    "%%bash\n",
    "\n",
    "zcat cc-main-2020-feb-mar-may-domain-vertices.txt.gz \\\n",
    "  | cut -f2 \\\n",
    "  | $WG it.unimi.dsi.sux4j.mph.GOV4Function cc-main-2020-feb-mar-may-domain.mph\n",
    "  \n",
    "zcat cc-main-2020-feb-mar-may-domain-vertices.txt.gz \\\n",
    "  | cut -f2 \\\n",
    "  | $WG it.unimi.dsi.util.ShiftAddXorSignedStringMap cc-main-2020-feb-mar-may-domain.mph cc-main-2020-feb-mar-may-domain.smph\n",
    "  \n",
    "zcat cc-main-2020-feb-mar-may-domain-vertices.txt.gz \\\n",
    "  | cut -f2 \\\n",
    "  | $WG it.unimi.dsi.util.FrontCodedStringList -u -r 32 cc-main-2020-feb-mar-may-domain.fcl"
   ]
  },
  {
   "cell_type": "markdown",
   "metadata": {},
   "source": [
    "In order to interact with the webgraph, we first need to [rebuild the string maps](http://law.di.unimi.it/tutorial.php)"
   ]
  },
  {
   "cell_type": "code",
   "execution_count": null,
   "metadata": {},
   "outputs": [],
   "source": [
    "%%bash\n",
    "\n",
    "git clone https://github.com/mapio/py-web-graph.git\n",
    "\n",
    "cd py-web-graph"
   ]
  },
  {
   "cell_type": "markdown",
   "metadata": {},
   "source": [
    "We clone [Massimo Santini's](https://santini.di.unimi.it/) repository, which provides a nice interface for the Web Graph."
   ]
  },
  {
   "cell_type": "code",
   "execution_count": null,
   "metadata": {},
   "outputs": [],
   "source": [
    "%%bash\n",
    "\n",
    "wget https://repo1.maven.org/maven2/org/python/jython-standalone/2.7.2/jython-standalone-2.7.2.jar"
   ]
  },
  {
   "cell_type": "markdown",
   "metadata": {},
   "source": [
    "The pyWebGraph repo operates on Jython, so we will download it (note that Jython is only compatible with Python 2)."
   ]
  },
  {
   "cell_type": "code",
   "execution_count": null,
   "metadata": {},
   "outputs": [],
   "source": [
    "%%bash\n",
    "\n",
    "cp pywebgraph/console.py .\n",
    "\n",
    "DIR=$PWD\n",
    "\n",
    "WEBGRAPH_VERSION=\"3.6.5\""
   ]
  },
  {
   "cell_type": "markdown",
   "metadata": {},
   "source": [
    "Copying over the console file and defining a couple of shell variables, we may now move onto launching the console."
   ]
  },
  {
   "cell_type": "code",
   "execution_count": null,
   "metadata": {},
   "outputs": [],
   "source": [
    "%%bash\n",
    "\n",
    "WG_CP=$DIR/webgraph-$WEBGRAPH_VERSION.jar:$(ls $DIR/deps/*.jar | tr '\\n' ':')"
   ]
  },
  {
   "cell_type": "markdown",
   "metadata": {},
   "source": [
    "We define the class path for the webgraph package. Note: Windows users should run the following command instead, as the pathing syntax is different."
   ]
  },
  {
   "cell_type": "code",
   "execution_count": null,
   "metadata": {},
   "outputs": [],
   "source": [
    "%%bash\n",
    "\n",
    "WG_CP=$DIR/webgraph-$WEBGRAPH_VERSION.jar\\;$(ls $DIR/deps/*.jar | tr '\\n' ';')"
   ]
  },
  {
   "cell_type": "code",
   "execution_count": null,
   "metadata": {},
   "outputs": [],
   "source": [
    "%%bash\n",
    "\n",
    "java -Xmx12g -Dpython.console=org.python.util.JLineConsole -Dpython.executable=/bin/python2.7 -cp $WG_CP:../jython-standalone-2.7.2.jar: org.python.util.jython console.py"
   ]
  },
  {
   "cell_type": "markdown",
   "metadata": {},
   "source": [
    "We will launch the pyWebGraph console! Again, Windows users should run only the following command due to syntactical differences."
   ]
  },
  {
   "cell_type": "code",
   "execution_count": null,
   "metadata": {},
   "outputs": [],
   "source": [
    "%%bash\n",
    "\n",
    "java -Xmx12g -Dpython.console=org.python.util.JLineConsole -Dpython.executable=/bin/python2.7 -cp $WG_CP\\;../jython-standalone-2.7.2.jar\\; org.python.util.jython console.py"
   ]
  },
  {
   "cell_type": "markdown",
   "metadata": {},
   "source": [
    "You should now see a console for pyWebGraph. Run `help` to view available commands. Refer to the README for an example!"
   ]
  },
  {
   "cell_type": "code",
   "execution_count": 6,
   "metadata": {},
   "outputs": [],
   "source": [
    "import matplotlib.pyplot as plt\n",
    "import pandas as pd"
   ]
  },
  {
   "cell_type": "markdown",
   "metadata": {},
   "source": [
    "We will be using `pandas` and `matplotlib` to manipulate and visualize some interesting statistics about the webgraph!"
   ]
  },
  {
   "cell_type": "code",
   "execution_count": 7,
   "metadata": {},
   "outputs": [],
   "source": [
    "graph_name = \"../cc-webgraph/output_dir/cc-main-2020-feb-mar-may-domain\""
   ]
  },
  {
   "cell_type": "markdown",
   "metadata": {},
   "source": [
    "Specify the path to the graph of interest. This may vary, depending on which crawl you would like to investigate."
   ]
  },
  {
   "cell_type": "code",
   "execution_count": 8,
   "metadata": {},
   "outputs": [],
   "source": [
    "#List of extensions that should be plotted\n",
    "metric_extensions = ['indegree','outdegree', 'sccdistr']\n",
    "weakly_cc = \"-connected-components-distrib.txt.gz\""
   ]
  },
  {
   "cell_type": "markdown",
   "metadata": {},
   "source": [
    "Here, `metric_extensions` is a list of extensions of the files that we will be plotting. All of these files have the same format, which is a list of frequency values, where the i'th value has the number of nodes with indegree/outdegree of i.\n",
    "\n",
    "`weakly_cc` contains information about strongly and weakly connected components, which is formatted differently (list of tuples containing <frequency,size,percent coverage of the graph>."
   ]
  },
  {
   "cell_type": "code",
   "execution_count": 9,
   "metadata": {},
   "outputs": [],
   "source": [
    "#Use pandas to manipulate frequency tables\n",
    "def generate_df(metric):\n",
    "    df = pd.read_table(graph_name + \".\" + metric,header=None,names=['frequency'])\n",
    "    return df"
   ]
  },
  {
   "cell_type": "markdown",
   "metadata": {},
   "source": [
    "Helper function that uses `pandas` to read in our files as dataframes, for faster processing."
   ]
  },
  {
   "cell_type": "code",
   "execution_count": 10,
   "metadata": {},
   "outputs": [],
   "source": [
    "#Collect and clean frequency tables of indegree, outdegree and sccdistr\n",
    "#Note that 0 must be removed as this will be plotted on a log log graph\n",
    "df_list = []\n",
    "for metric in metric_extensions:\n",
    "    generated_df = generate_df(metric)\n",
    "    generated_df = generated_df.iloc[lambda x: x.index != 0]\n",
    "    generated_df = generated_df[generated_df['frequency'] > 0]\n",
    "    df_list.append([generated_df,metric])"
   ]
  },
  {
   "cell_type": "markdown",
   "metadata": {},
   "source": [
    "We load up all of our data into seperate dataframes, and remove the values of \"0\" due to the fact that we will be plotting on a loglog graph."
   ]
  },
  {
   "cell_type": "code",
   "execution_count": 11,
   "metadata": {},
   "outputs": [],
   "source": [
    "#Load up all connected component distribution, which has unique header info so must be done seperately\n",
    "df = pd.read_table(graph_name + weakly_cc, header=None, names=['size','percent_coverage']).sort_index()"
   ]
  },
  {
   "cell_type": "code",
   "execution_count": 12,
   "metadata": {},
   "outputs": [],
   "source": [
    "#Remove header\n",
    "df = df.iloc[1:]"
   ]
  },
  {
   "cell_type": "code",
   "execution_count": 13,
   "metadata": {},
   "outputs": [],
   "source": [
    "#Convert data to int rather than string so it may be plotted\n",
    "df.index = df.index.astype(int)\n",
    "df['size'] = df['size'].astype(int)"
   ]
  },
  {
   "cell_type": "markdown",
   "metadata": {},
   "source": [
    "We will load up the connected component file seperately, due to the fact that it is formatted differently."
   ]
  },
  {
   "cell_type": "code",
   "execution_count": 14,
   "metadata": {},
   "outputs": [],
   "source": [
    "#Add processed connected component distribution table to list of all tables that will be plotted\n",
    "df_list.append([df,'allccdistr'])"
   ]
  },
  {
   "cell_type": "code",
   "execution_count": 26,
   "metadata": {
    "scrolled": true
   },
   "outputs": [
    {
     "data": {
      "image/png": "[encoded data removed]",
      "text/plain": [
       "<Figure size 1080x1080 with 4 Axes>"
      ]
     },
     "metadata": {
      "needs_background": "light"
     },
     "output_type": "display_data"
    }
   ],
   "source": [
    "plt_list = [0]*4\n",
    "fig, ((plt_list[0], plt_list[1]), (plt_list[2], plt_list[3])) = plt.subplots(2, 2)\n",
    "fig.suptitle('Common Crawl Web Graph statistics')\n",
    "fig.set_figheight(15)\n",
    "fig.set_figwidth(15)\n",
    "graph_number = 0\n",
    "for df_pair in df_list:\n",
    "    df = df_pair[0]\n",
    "    metric = df_pair[1]\n",
    "    #We will plot this on a log log graph\n",
    "    plt_list[graph_number].semilogy([1,10,100,1000,10000,100000,1000000], color='white')\n",
    "    plt_list[graph_number].semilogx([1,10,100,1000,10000,100000,1000000], color='white')\n",
    "    \n",
    "    #Based on how our data is formatted we will plot on different x and y\n",
    "    if metric == \"sccdistr\":\n",
    "        plt_list[graph_number].scatter(df['frequency'], df.index)\n",
    "    elif metric == \"allccdistr\":\n",
    "        plt_list[graph_number].scatter(df.index, df['size'])\n",
    "    else:\n",
    "        plt_list[graph_number].scatter(df.index, df['frequency'])\n",
    "    \n",
    "    plt_list[graph_number].set(xlabel = \"Number of nodes\", ylabel = metric + \" size\")\n",
    "    graph_number += 1\n"
   ]
  },
  {
   "cell_type": "markdown",
   "metadata": {},
   "source": [
    "Finally, we may visualize these dataframes. Iterating over the list of dataframes that we have created, we will plot them on a loglog graph one by one, and for each different suffix (sccdistr, allcdistr, outdegree, indegree) we may or may not plot them differently. "
   ]
  },
  {
   "cell_type": "code",
   "execution_count": null,
   "metadata": {},
   "outputs": [],
   "source": []
  }
 ],
 "metadata": {
  "kernelspec": {
   "display_name": "Python 3",
   "language": "python",
   "name": "python3"
  },
  "language_info": {
   "codemirror_mode": {
    "name": "ipython",
    "version": 3
   },
   "file_extension": ".py",
   "mimetype": "text/x-python",
   "name": "python",
   "nbconvert_exporter": "python",
   "pygments_lexer": "ipython3",
   "version": "3.8.3"
  }
 },
 "nbformat": 4,
 "nbformat_minor": 4
}
